{
 "cells": [
  {
   "cell_type": "markdown",
   "metadata": {},
   "source": [
    "# Reinforcement learning: Tic Tac Toe et Alpha Zero"
   ]
  },
  {
   "cell_type": "markdown",
   "metadata": {},
   "source": [
    "## 1/ Jeu de morpion\n",
    "\n",
    "On va dans un premier temps créer la classe du jeu du morpion"
   ]
  },
  {
   "cell_type": "code",
   "execution_count": 28,
   "metadata": {},
   "outputs": [],
   "source": [
    "import numpy as np\n",
    "\n",
    "class Morpion_board():\n",
    "    def __init__(self):\n",
    "        self.board = np.zeros([3, 3]).astype(str)\n",
    "        self.board[self.board == \"0.0\"] = ' '\n",
    "        self.player = 1\n",
    "\n",
    "    def draw_sign(self, move):\n",
    "        if hasattr(move, \"__len__\"):\n",
    "            row, column = move[0], move[1]\n",
    "        else:\n",
    "            row = move//3\n",
    "            column = move%3\n",
    "        if self.board[row, column] != ' ':\n",
    "            return ('Invalid position')\n",
    "        else:\n",
    "            if self.player == 0:\n",
    "                self.board[row, column] = 'O'\n",
    "                self.player = 1\n",
    "            elif self.player == 1:\n",
    "                self.board[row, column] = 'X'\n",
    "                self.player = 0\n",
    "\n",
    "    def check_winner(self):\n",
    "        if self.player == 0:\n",
    "            # on essaye les 6 points qui permettent de gagner (pour le joueur 0)\n",
    "            if self.board[0, 0] == 'O':\n",
    "                if (self.board[0, 0] == 'O' and self.board[0, 1] == 'O' and self.board[\n",
    "                    0, 2] == 'O'):\n",
    "                    return True\n",
    "                elif (self.board[0, 0] == 'O' and self.board[1, 0] == 'O' and self.board[\n",
    "                    2, 0] == 'O'):\n",
    "                    return True\n",
    "                elif (self.board[0, 0] == 'O' and self.board[1, 1] == 'O' and self.board[\n",
    "                    2, 2] == 'O'):\n",
    "                    return True\n",
    "            if self.board[1, 1] == 'O':\n",
    "                if (self.board[0, 1] == 'O' and self.board[1, 1] == 'O' and self.board[\n",
    "                    2, 1] == 'O'):\n",
    "                    return True\n",
    "                elif (self.board[1, 0] == 'O' and self.board[1, 1] == 'O' and self.board[\n",
    "                    1, 2] == 'O'):\n",
    "                    return True\n",
    "                elif (self.board[2, 0] == 'O' and self.board[1, 1] == 'O' and self.board[\n",
    "                    0, 2] == 'O'):\n",
    "                    return True\n",
    "            if self.board[2, 2] == 'O':\n",
    "                if (self.board[0, 2] == 'O' and self.board[1, 2] == 'O' and self.board[\n",
    "                    2, 2] == 'O'):\n",
    "                    return True\n",
    "                elif (self.board[2, 0] == 'O' and self.board[2, 1] == 'O' and self.board[\n",
    "                    2, 2] == 'O'):\n",
    "                    return True\n",
    "\n",
    "        if self.player == 1:\n",
    "            # on essaye les 6 points qui permettent de gagner (pour le joueur 1)\n",
    "            if self.board[0, 0] == 'X':\n",
    "                if (self.board[0, 0] == 'X' and self.board[0, 1] == 'X' and self.board[\n",
    "                    0, 2] == 'X'):\n",
    "                    return True\n",
    "                elif (self.board[0, 0] == 'X' and self.board[1, 0] == 'X' and self.board[\n",
    "                    2, 0] == 'X'):\n",
    "                    return True\n",
    "                elif (self.board[0, 0] == 'X' and self.board[1, 1] == 'X' and self.board[\n",
    "                    2, 2] == 'X'):\n",
    "                    return True\n",
    "            if self.board[1, 1] == 'X':\n",
    "                if (self.board[0, 1] == 'X' and self.board[1, 1] == 'X' and self.board[\n",
    "                    2, 1] == 'X'):\n",
    "                    return True\n",
    "                elif (self.board[1, 0] == 'X' and self.board[1, 1] == 'X' and self.board[\n",
    "                    1, 2] == 'X'):\n",
    "                    return True\n",
    "                elif (self.board[2, 0] == 'X' and self.board[1, 1] == 'X' and self.board[\n",
    "                    0, 2] == 'X'):\n",
    "                    return True\n",
    "            if self.board[2, 2] == 'X':\n",
    "                if (self.board[0, 2] == 'X' and self.board[1, 2] == 'X' and self.board[\n",
    "                    2, 2] == 'X'):\n",
    "                    return True\n",
    "                elif (self.board[2, 0] == 'X' and self.board[2, 1] == 'X' and self.board[\n",
    "                    2, 2] == 'X'):\n",
    "                    return True\n",
    "        return False\n",
    "\n",
    "    def actions(self):  # returns all possible moves\n",
    "        acts = []\n",
    "        for row in range(3):\n",
    "            for col in range(3):\n",
    "                if self.board[row, col] == ' ':\n",
    "                    acts.append([row, col])\n",
    "        return acts\n",
    "\n",
    "    def __repr__(self):\n",
    "        return(f\"\"\"|{self.board[0,0]}|{self.board[0,1]}|{self.board[0,2]}|\n",
    "|{self.board[1,0]}|{self.board[1,1]}|{self.board[1,2]}|\n",
    "|{self.board[2,0]}|{self.board[2,1]}|{self.board[2,2]}|\"\"\")\n"
   ]
  },
  {
   "cell_type": "markdown",
   "metadata": {},
   "source": [
    "On va maintenant vérifier si ce dernier fonctionne."
   ]
  },
  {
   "cell_type": "code",
   "execution_count": 29,
   "metadata": {},
   "outputs": [
    {
     "name": "stdout",
     "output_type": "stream",
     "text": [
      "| | | |\n",
      "| | | |\n",
      "| | | |\n",
      "| | | |\n",
      "| |X| |\n",
      "| | | |\n",
      "[[0, 0], [0, 1], [0, 2], [1, 0], [1, 2], [2, 0], [2, 1], [2, 2]]\n",
      "False\n"
     ]
    }
   ],
   "source": [
    "M = Morpion_board()\n",
    "print(M)\n",
    "M.draw_sign([1,1])\n",
    "print(M)\n",
    "print(M.actions())\n",
    "print(M.check_winner())\n",
    "\n"
   ]
  },
  {
   "cell_type": "markdown",
   "metadata": {},
   "source": [
    "## Les 3 éléments d'Alpha Zéro\n",
    "\n",
    "- Un réseau de neurone adapté au board qui renvoie la policy (distribution en proba des différents mouvements possibles) ainsi que du vainqueur \n",
    "- Monte-Carlo Tree Search (MCTS): comme Alpha Chess Zéro, nous avons implémenté la méthode MCTS plutôt que alpha beta.  On utilise la policy pour générer un ensemble de jeu.\n",
    "- Evaluation du réseau de neurone, basé sur une évaluation du gagnant du match à la prochaine itération"
   ]
  },
  {
   "cell_type": "markdown",
   "metadata": {},
   "source": [
    "## Le réseau de neurone \n",
    "\n",
    "On cherche dans un premier temps à avoir un plateau de jeu intelligible pour notre neural network. On va donc transformer notre plateau de jeu en 1 dimension en trois dimension. \n",
    "![baba](img/board_to_neural.png)\n",
    "\n",
    "On va donc d'abord définir la fonction encode board, pour passer d'un board à un array numpy."
   ]
  },
  {
   "cell_type": "code",
   "execution_count": 30,
   "metadata": {},
   "outputs": [],
   "source": [
    "def encode_board(board):\n",
    "    board_sate = board.board\n",
    "    encoded = np.zeros([3,3,3]).astype(int)\n",
    "    encoder_dict = {'O':1, 'X':0}\n",
    "    for row in range(3):\n",
    "        for col in range(3):\n",
    "            if board_sate[row,col] != ' ':\n",
    "                encoded[row, col, encoder_dict[board_sate[row, col]]] = 1\n",
    "    if board.player == 1:\n",
    "        encoded[:,:,2] = 1\n",
    "    return encoded"
   ]
  },
  {
   "cell_type": "markdown",
   "metadata": {},
   "source": [
    "On teste si elle fonctionne "
   ]
  },
  {
   "cell_type": "code",
   "execution_count": 34,
   "metadata": {},
   "outputs": [
    {
     "name": "stdout",
     "output_type": "stream",
     "text": [
      "[[0 0 0]\n",
      " [0 1 0]\n",
      " [0 0 0]]\n",
      "[[0 0 0]\n",
      " [0 0 0]\n",
      " [0 0 0]]\n",
      "[[0 0 0]\n",
      " [0 0 0]\n",
      " [0 0 0]]\n",
      "The player that is about to play is 0\n"
     ]
    }
   ],
   "source": [
    "encoded_board = encode_board(M)\n",
    "print(encoded_board[:,:,0])\n",
    "print(encoded_board[:,:,1])\n",
    "print(encoded_board[:,:,2])\n",
    "print(f\"The player that is about to play is {M.player}\")"
   ]
  },
  {
   "cell_type": "markdown",
   "metadata": {},
   "source": [
    "On va maintenant aussi coder une fonction decode board, pour passer d'un array numpy à un board state."
   ]
  },
  {
   "cell_type": "code",
   "execution_count": 35,
   "metadata": {},
   "outputs": [],
   "source": [
    "def decode_board(encoded):\n",
    "    decoded = np.zeros([3,3]).astype(str)\n",
    "    decoded[decoded == '0.0'] = ' '\n",
    "    decoder_dict = {0:'O', 1:'X'}\n",
    "    for row in range(3):\n",
    "        for col in range(3):\n",
    "            for k in range(2):\n",
    "                if encoded[row,col,k] == 1:\n",
    "                    decoded[row,col] = decoder_dict[k]\n",
    "    mboard = Morpion_board()\n",
    "    mboard.board = decoded\n",
    "    mboard.player = encoded[0,0,2]\n",
    "    return mboard"
   ]
  },
  {
   "cell_type": "code",
   "execution_count": 36,
   "metadata": {},
   "outputs": [
    {
     "name": "stdout",
     "output_type": "stream",
     "text": [
      "| | | |\n",
      "| |O| |\n",
      "| | | |\n"
     ]
    }
   ],
   "source": [
    "decoded_board = decode_board(encoded_board)\n",
    "print(decoded_board)"
   ]
  },
  {
   "cell_type": "markdown",
   "metadata": {},
   "source": [
    "On retrouve bien notre plateau initial"
   ]
  },
  {
   "cell_type": "code",
   "execution_count": null,
   "metadata": {},
   "outputs": [],
   "source": []
  }
 ],
 "metadata": {
  "kernelspec": {
   "display_name": "Python 3",
   "language": "python",
   "name": "python3"
  },
  "language_info": {
   "codemirror_mode": {
    "name": "ipython",
    "version": 3
   },
   "file_extension": ".py",
   "mimetype": "text/x-python",
   "name": "python",
   "nbconvert_exporter": "python",
   "pygments_lexer": "ipython3",
   "version": "3.7.4"
  }
 },
 "nbformat": 4,
 "nbformat_minor": 2
}
